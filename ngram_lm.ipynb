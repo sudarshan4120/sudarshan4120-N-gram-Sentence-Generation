{
 "cells": [
  {
   "cell_type": "markdown",
   "metadata": {},
   "source": [
    "Homework 2: n-gram LM\n",
    "----\n",
    "\n",
    "Due date: 25 Feb 2024\n",
    "\n",
    "Points: 105\n",
    "\n",
    "Goals:\n",
    "- understand the difficulties of counting and probablities in NLP applications\n",
    "- work with real world data to build a functioning language model\n",
    "- stress test your model (to some extent)\n",
    "\n",
    "Complete in groups of: __one (individually)__\n",
    "\n",
    "Allowed python modules:\n",
    "- `numpy`, `matplotlib`, and all built-in python libraries (e.g. `math` and `string`)\n",
    "- do not use `nltk` or `pandas`\n",
    "\n",
    "Instructions:\n",
    "- Complete outlined problems in this notebook. \n",
    "- When you have finished, __clear the kernel__ and __run__ your notebook \"fresh\" from top to bottom. Ensure that there are __no errors__. \n",
    "    - If a problem asks for you to write code that does result in an error (as in, the answer to the problem is an error), leave the code in your notebook but commented out so that running from top to bottom does not result in any errors.\n",
    "- Double check that you have completed Task 0.\n",
    "- Submit your work on Gradescope.\n",
    "- Double check that your submission on Gradescope looks like you believe it should."
   ]
  },
  {
   "cell_type": "markdown",
   "metadata": {},
   "source": [
    "Task 0: Name, References, Reflection (5 points)\n",
    "---\n",
    "\n",
    "Name: Sudarshan S Paranjape\n",
    "\n",
    "References\n",
    "---\n",
    "List the resources you consulted to complete this homework here. Write one sentence per resource about what it provided to you. If you consulted no references to complete your assignment, write a brief sentence stating that this is the case and why it was the case for you.\n",
    "\n",
    "(Example)\n",
    "- https://docs.python.org/3/tutorial/datastructures.html\n",
    "    - Read about the the basics and syntax for data structures in python.\n",
    "\n",
    "AI Collaboration\n",
    "---\n",
    "Following the *Policy on the use of Generative AI* in the syllabus, please cite any LLMs that you used here and briefly describe what you used them for. Additionally, provide comments in-line identifying the specific sections that you used LLMs on, if you used them towards the generation of any of your answers.\n",
    "\n",
    "Reflection\n",
    "----\n",
    "Answer the following questions __after__ you complete this assignment (no more than 1 sentence per question required, this section is graded on completion):\n",
    "\n",
    "**1. Does this work reflect your best effort?** <br>\n",
    "I am not sure, but it was challenging to build intuition of n-gram model and their edge cases, I tried to understand n-grams first which is why I had to use my late days.<br>\n",
    "**2. What was/were the most challenging part(s) of the assignment?**<br>\n",
    "Building the training and scoring functions were the most challenging as based on my logic some test cases ran at first, bu then it required conditioning for UNK tokens and also the edge cases.<br>\n",
    "**3. If you want feedback, what function(s) or problem(s) would you like feedback on and why?**<br>\n",
    "I think that my scoring function is not fully efficient as i have used multiple try-except blocks. I think it can be optimised but not sure how to do that."
   ]
  },
  {
   "cell_type": "markdown",
   "metadata": {},
   "source": [
    "Task 1: Berp Data Write-Up (5 points)\n",
    "---\n",
    "\n",
    "Every time you use a data set in an NLP application (or in any software application), you should be able to answer a set of questions about that data. Answer these now. Default to no more than 1 sentence per question needed. If more explanation is necessary, do give it."
   ]
  },
  {
   "cell_type": "markdown",
   "metadata": {},
   "source": [
    "This is about the __berp__ data set.\n",
    "\n",
    "1. Where did you get the data from? https://www1.icsi.berkeley.edu/Speech/berp.html\n",
    "<br>\n",
    "2. How was the data collected (where did the people acquiring the data get it from and how)? ---->*he data was collected from real people interacting with the BeRP system, an automated restaurant consultant developed at the International Computer Science Institute (ICSI). The participants are first given an instruction sheet which gives them the task of finding information about one or more restaurants in Berkeley* \n",
    "<br>\n",
    "\n",
    "3. How large is the dataset? (# lines, # tokens) ----> *It consists of 7500 sentences, with 1500 words* \n",
    "<br>\n",
    "\n",
    "4. What is your data? (i.e. newswire, tweets, books, blogs, etc)----> *The dataset is a collection of spoken language focused on the domain of restaurants in different accents and languages*\n",
    "<br>\n",
    "\n",
    "5. Who produced the data? (who were the authors of the text? Your answer might be a specific person or a particular group of people)---->"
   ]
  },
  {
   "cell_type": "markdown",
   "metadata": {},
   "source": [
    "Task 2: Implement an n-gram Language Model (90 points)\n",
    "----\n",
    "\n",
    "Implement the `LanguageModel` class as outlined in the provided `lm_model.py` file. Do not change function signatures (the unit tests that we provide and in the autograder will break).\n",
    "\n",
    "Your language model:\n",
    "- *must* work for the unigram, bigram, and trigram cases (5 points are allocated to an experiment involving larger values of `n`)\n",
    "    - hint: try to implement the bigram case as a generalized \"n greater than 1\" case\n",
    "- should be *token agnostic* (this means that if we give the model text tokenized as single characters, it will function as a character language model and if we give the model text tokenized as \"words\" (or \"traditionally\"), then it will function as a language model with those tokens)\n",
    "- will use Laplace smoothing\n",
    "- will replace all tokens that occur only once with `<UNK>` at train time\n",
    "    - do not add `<UNK>` to your vocabulary if no tokens in the training data occur only once!\n",
    "\n",
    "We have provided:\n",
    "- a function to read in files\n",
    "- some functions to change a list of strings into tokens\n",
    "- the skeleton of the `LanguageModel` class\n",
    "\n",
    "You need to implement:\n",
    "- all functions marked\n",
    "\n",
    "You may implement:\n",
    "- additional functions/methods as helpful to you\n",
    "\n",
    "As a general guideline for reference, including comments, all code required, and some debugging code that can be run with `verbose` parameters, our solution is ~ 300 lines. (~ 120 lines added to the starter code).\n",
    "\n",
    "Points breakdown marked in code below."
   ]
  },
  {
   "cell_type": "code",
   "execution_count": 1,
   "metadata": {},
   "outputs": [],
   "source": [
    "import lm_model as lm\n",
    "import numpy as np\n",
    "import matplotlib.pyplot as plt"
   ]
  },
  {
   "cell_type": "code",
   "execution_count": 2,
   "metadata": {},
   "outputs": [
    {
     "name": "stdout",
     "output_type": "stream",
     "text": [
      "[['<s>', 'am', 'i', '</s>'], ['<s>', 'i', 'i', 'i', 'ham', 'am', 'i', 'i', 'am', 'ham', 'ham', 'am', 'am', '</s>']]\n",
      "[['<s>', 'i', 'am', 'sam', '</s>'], ['<s>', 'i', 'am', '</s>']]\n"
     ]
    }
   ],
   "source": [
    "# test the language model (unit tests)\n",
    "import test_minitrainingprovided as test\n",
    "\n",
    "# passing all these tests is a good indication that your model\n",
    "# is correct. They are *not a guarantee*, so make sure to look\n",
    "# at the tests and the cases that they cover. (we'll be testing\n",
    "# your model against all of the testing data in addition).\n",
    "\n",
    "# autograder points in gradescope are assigned SIXTY points\n",
    "# this is essentially 60 points for correctly implementing your\n",
    "# underlying model\n",
    "# there are an additional 10 points manually graded for the correctness\n",
    "# parts of your sentence generation\n",
    "\n",
    "# make sure all training files are in a \"training_files\" directory \n",
    "# that is in the same directory as this notebook\n",
    "\n",
    "unittest = test.TestMiniTraining()\n",
    "unittest.test_createunigrammodellaplace()\n",
    "unittest.test_createbigrammodellaplace()\n",
    "unittest.test_unigramlaplace()\n",
    "unittest.test_unigramunknownslaplace()\n",
    "unittest.test_bigramlaplace()\n",
    "unittest.test_bigramunknownslaplace()\n",
    "# produces output\n",
    "unittest.test_generateunigramconcludes()\n",
    "# produces output\n",
    "unittest.test_generatebigramconcludes()\n",
    "\n",
    "unittest.test_onlyunknownsgenerationandscoring()"
   ]
  },
  {
   "cell_type": "code",
   "execution_count": 3,
   "metadata": {},
   "outputs": [
    {
     "name": "stdout",
     "output_type": "stream",
     "text": [
      "--------------------------------------------\n",
      "sentence 1 : ['<s>', 'do', 'they', 'have', 'japanese', 'food', 'at', 'a', 'late', 'night', '</s>']\n",
      "--------------------------------------------\n",
      "sentence 2 : ['<s>', 'what', 'is', 'it', 'stop', 'serving', 'in', 'the', 'most', 'expensive', '</s>']\n",
      "--------------------------------------------\n",
      "sentence 3 : ['<s>', 'oh', 'i', 'want', 'to', 'spend', 'less', 'than', 'fifteen', 'dollars', '</s>']\n",
      "--------------------------------------------\n",
      "sentence 4 : ['<s>', 'i', 'ask', '</s>']\n",
      "--------------------------------------------\n",
      "sentence 5 : ['<s>', 'not', 'more', 'than', 'twenty', 'dollars', '</s>']\n",
      "--------------------------------------------\n",
      "sentence 6 : ['<s>', 'please', 'start', 'over', '</s>']\n",
      "--------------------------------------------\n",
      "sentence 7 : ['<s>', 'hello', \"i'd\", 'like', 'to', 'spend', 'six', '</s>']\n",
      "--------------------------------------------\n",
      "sentence 8 : ['<s>', 'i', 'want', 'italian', 'restaurants', '</s>']\n",
      "--------------------------------------------\n",
      "sentence 9 : ['<s>', \"i'd\", 'like', 'to', 'go', 'with', 'some', '<UNK>', 'restaurants', '</s>']\n",
      "--------------------------------------------\n",
      "sentence 10 : ['<s>', 'good', 'vegetarian', '</s>']\n"
     ]
    }
   ],
   "source": [
    "# 5 points\n",
    "import lm_model as lm\n",
    "# instantiate a bigram language model, train it, and generate ten sentences\n",
    "# make sure your output is nicely formatted!\n",
    "ngram = 2\n",
    "training_file_path = \"training_files/berp-training.txt\"\n",
    "# optional parameter tells the tokenize function how to tokenize\n",
    "by_char = False\n",
    "data = lm.read_file(training_file_path)\n",
    "tokens = lm.tokenize(data, ngram, by_char=by_char)\n",
    "\n",
    "# YOUR CODE HERE\n",
    "lm = lm.LanguageModel(ngram)\n",
    "lm.train(tokens)\n",
    "for _ in range(10):\n",
    "    sentence = lm.generate_sentence()\n",
    "    print('--------------------------------------------')\n",
    "    print('sentence',_+1,':',sentence)\n"
   ]
  },
  {
   "cell_type": "code",
   "execution_count": 14,
   "metadata": {},
   "outputs": [
    {
     "name": "stdout",
     "output_type": "stream",
     "text": [
      "Average =  5.657826505871131e-05\n",
      "Standard Deviation =  0.00015687951737690094\n"
     ]
    }
   ],
   "source": [
    "# 5 points\n",
    "import lm_model as lm\n",
    "import statistics\n",
    "# evaluate your bigram model on the test data\n",
    "# score each line in the test data individually, then calculate the average score\n",
    "# you need not re-train your model\n",
    "n = 2\n",
    "test_path = \"testing_files/berp-test.txt\"\n",
    "data = lm.read_file(test_path)\n",
    "t = lm.tokenize(data, n, by_char=by_char)\n",
    "scores = []\n",
    "# print(tokens)\n",
    "lm = lm.LanguageModel(n)\n",
    "lm.train(t)\n",
    "for _ in range(10):\n",
    "    sentence = lm.generate_sentence()\n",
    "    s = lm.score(sentence)\n",
    "    #print(s)\n",
    "    scores.append(s)\n",
    "\n",
    "# Print out the mean score and standard deviation\n",
    "# for words-as-tokens, these values should be\n",
    "# ~4.9 * 10^-5 and 0.000285\n",
    "print(\"Average = \", sum(scores)/len(scores))\n",
    "print(\"Standard Deviation = \",statistics.stdev(scores))"
   ]
  },
  {
   "cell_type": "code",
   "execution_count": 15,
   "metadata": {},
   "outputs": [
    {
     "name": "stdout",
     "output_type": "stream",
     "text": [
      "--------------------------------------------\n",
      "sentence 0 : ['<s>', '<s>', '<s>', '<s>', '<s>', '<s>', 'oath', 'to', 'support', 'the', 'Constitution,', '</s>', '</s>', '</s>', '</s>', '</s>', '</s>']\n",
      "\n",
      "--------------------------------------------\n",
      "sentence 1 : ['<s>', '<s>', '<s>', '<s>', '<s>', '<s>', 'Constitution', 'between', 'the', 'States', 'so', '</s>', '</s>', '</s>', '</s>', '</s>', '</s>']\n",
      "\n",
      "--------------------------------------------\n",
      "sentence 2 : ['<s>', '<s>', '<s>', '<s>', '<s>', '<s>', 'seat', 'of', 'government,', 'and', 'as', 'shall', 'be', 'provided', 'by', 'the', 'Congress.', '</s>', '</s>', '</s>', '</s>', '</s>', '</s>']\n",
      "\n",
      "--------------------------------------------\n",
      "sentence 3 : ['<s>', '<s>', '<s>', '<s>', '<s>', '<s>', 'Arrest', 'during', 'their', 'attendance', 'at', 'the', '1', '6', '1', '</s>', '</s>', '</s>', '</s>', '</s>', '</s>']\n",
      "\n",
      "--------------------------------------------\n",
      "sentence 4 : ['<s>', '<s>', '<s>', '<s>', '<s>', '<s>', 'Except', 'in', 'cases', 'in', 'the', 'military', 'and', '5', '.......', '......', '</s>', '</s>', '</s>', '</s>', '</s>', '</s>']\n",
      "\n",
      "--------------------------------------------\n",
      "sentence 5 : ['<s>', '<s>', '<s>', '<s>', '<s>', '<s>', 'persons', 'voted', 'for', 'as', 'President', 'and', 'of', '</s>', '</s>', '</s>', '</s>', '</s>', '</s>']\n",
      "\n",
      "--------------------------------------------\n",
      "sentence 6 : ['<s>', '<s>', '<s>', '<s>', '<s>', '<s>', 'September', '17,', '<UNK>', '</s>', '</s>', '</s>', '</s>', '</s>', '</s>']\n",
      "\n",
      "--------------------------------------------\n",
      "sentence 7 : ['<s>', '<s>', '<s>', '<s>', '<s>', '<s>', '<UNK>', 'of', 'the', '<UNK>', '1', '</s>', '</s>', '</s>', '</s>', '</s>', '</s>']\n",
      "\n",
      "--------------------------------------------\n",
      "sentence 8 : ['<s>', '<s>', '<s>', '<s>', '<s>', '<s>', 'having', 'one', '<UNK>', 'a', 'quorum', 'for', 'this', 'purpose', 'shall', 'consist', 'of', 'a', '</s>', '</s>', '</s>', '</s>', '</s>', '</s>']\n",
      "\n",
      "--------------------------------------------\n",
      "sentence 9 : ['<s>', '<s>', '<s>', '<s>', '<s>', '<s>', 'of', '<UNK>', '</s>', '</s>', '</s>', '</s>', '</s>', '</s>']\n",
      "\n",
      "Time elapsed 3.949347299989313\n"
     ]
    }
   ],
   "source": [
    "# 5 points\n",
    "\n",
    "# see if you can train your model on the data you found for your first homework\n",
    "\n",
    "\n",
    "# what is the maximum value of n <= 10 that you can train a model *in your programming environment* in a reasonable amount of time? (less than 3 - 5 minutes)\n",
    "\n",
    "\n",
    "# generate three sentences with this model\n",
    "import timeit\n",
    "start_time = timeit.default_timer()\n",
    "\n",
    "import lm_model as lm\n",
    "# instantiate a bigram language model, train it, and generate ten sentences\n",
    "# make sure your output is nicely formatted!\n",
    "ngram = 7\n",
    "training_file_path = \"USconstitution.txt\"\n",
    "# optional parameter tells the tokenize function how to tokenize\n",
    "by_char = False\n",
    "data = lm.read_file(training_file_path)\n",
    "tokens = lm.tokenize(data, ngram, by_char=by_char)\n",
    "\n",
    "# YOUR CODE HERE\n",
    "lm = lm.LanguageModel(ngram)\n",
    "lm.train(tokens)\n",
    "for _ in range(10):\n",
    "    sentence = lm.generate_sentence()\n",
    "    print('--------------------------------------------')\n",
    "    print('sentence',_,':',sentence)\n",
    "    print()\n",
    "\n",
    "elapsed = timeit.default_timer() - start_time\n",
    "print('Time elapsed',elapsed)"
   ]
  },
  {
   "cell_type": "markdown",
   "metadata": {},
   "source": [
    "Implement the corresponding function and evaluate the perplexity of your model on the first 20 lines in the test data for values of `n` from 1 to 3. Perplexity should be individually calculated for each line."
   ]
  },
  {
   "cell_type": "code",
   "execution_count": 6,
   "metadata": {},
   "outputs": [],
   "source": [
    "# import lm_model as lm\n",
    "# test_path = \"testing_files/berp-test.txt\"\n",
    "# test_data = lm.read_file(test_path)\n",
    "\n",
    "\n",
    "# for ngram in range(1, 4):\n",
    "#     print(\"********\")\n",
    "#     print(\"Ngram model:\", ngram)\n",
    "#     # YOUR CODE HERE\n",
    "#     lm = lm.LanguageModel(ngram)\n",
    "#     t = lm.tokenize(test_data, n, by_char=by_char)\n",
    "#     # Instantiate and train the language model\n",
    "#     ngram_model = lm.LanguageModel(ngram)\n",
    "#     ngram_model.train(t)\n",
    "    \n",
    "#     perplexities = []\n",
    "#     for line_tokens in t[:20]:\n",
    "#         perplexity = ngram_model.perplexity(line_tokens)\n",
    "#         perplexities.append(perplexity)"
   ]
  },
  {
   "cell_type": "markdown",
   "metadata": {},
   "source": [
    "Somehow i have to Instantiate and train the language model for every code cell. I tried to debugg it but somehow i cannot do that. I have calculated the perplexities seperately instead."
   ]
  },
  {
   "cell_type": "code",
   "execution_count": 16,
   "metadata": {},
   "outputs": [
    {
     "name": "stdout",
     "output_type": "stream",
     "text": [
      "For n= 1 perplxity= 32.346167916858064\n"
     ]
    }
   ],
   "source": [
    "import lm_model as lm\n",
    "test_path = \"testing_files/berp-test.txt\"\n",
    "test_data = lm.read_file(test_path)\n",
    "ngram = 1\n",
    "# optional parameter tells the tokenize function how to tokenize\n",
    "by_char = False\n",
    "tokens = lm.tokenize(test_data, ngram, by_char=by_char)\n",
    "\n",
    "# YOUR CODE HERE\n",
    "lm = lm.LanguageModel(ngram)\n",
    "lm.train(tokens)\n",
    "perplexity = lm.perplexity(tokens[:20])\n",
    "print('For n=',ngram,'perplxity=',perplexity)\n"
   ]
  },
  {
   "cell_type": "code",
   "execution_count": 17,
   "metadata": {},
   "outputs": [
    {
     "name": "stdout",
     "output_type": "stream",
     "text": [
      "For n= 2 perplxity= 19.167013105312897\n"
     ]
    }
   ],
   "source": [
    "import lm_model as lm\n",
    "test_path = \"testing_files/berp-test.txt\"\n",
    "test_data = lm.read_file(test_path)\n",
    "ngram = 2\n",
    "# optional parameter tells the tokenize function how to tokenize\n",
    "by_char = False\n",
    "tokens = lm.tokenize(test_data, ngram, by_char=by_char)\n",
    "\n",
    "# YOUR CODE HERE\n",
    "lm = lm.LanguageModel(ngram)\n",
    "lm.train(tokens)\n",
    "perplexity = lm.perplexity(tokens[:20])\n",
    "print('For n=',ngram,'perplxity=',perplexity)\n"
   ]
  },
  {
   "cell_type": "code",
   "execution_count": 18,
   "metadata": {},
   "outputs": [
    {
     "name": "stdout",
     "output_type": "stream",
     "text": [
      "For n= 3 perplxity= 15.229804502480643\n"
     ]
    }
   ],
   "source": [
    "import lm_model as lm\n",
    "test_path = \"testing_files/berp-test.txt\"\n",
    "test_data = lm.read_file(test_path)\n",
    "ngram = 3\n",
    "# optional parameter tells the tokenize function how to tokenize\n",
    "by_char = False\n",
    "tokens = lm.tokenize(test_data, ngram, by_char=by_char)\n",
    "\n",
    "# YOUR CODE HERE\n",
    "lm = lm.LanguageModel(ngram)\n",
    "lm.train(tokens)\n",
    "perplexity = lm.perplexity(tokens[:20])\n",
    "print('For n=',ngram,'perplxity=',perplexity)\n"
   ]
  },
  {
   "cell_type": "markdown",
   "metadata": {},
   "source": [
    "1. What are the common attributes of the test sentences that cause very high perplexity? __long sentences, unusual sentence structure, rare words__"
   ]
  },
  {
   "cell_type": "markdown",
   "metadata": {},
   "source": [
    "5 points in this assignment are reserved for overall style (both for writing and for code submitted). All work submitted should be clear, easily interpretable, and checked for spelling, etc. (Re-read what you write and make sure it makes sense). Course staff are always happy to give grammatical help (but we won't pre-grade the content of your answers)."
   ]
  },
  {
   "cell_type": "markdown",
   "metadata": {},
   "source": []
  },
  {
   "cell_type": "code",
   "execution_count": null,
   "metadata": {},
   "outputs": [],
   "source": []
  }
 ],
 "metadata": {
  "kernelspec": {
   "display_name": "Python 3",
   "language": "python",
   "name": "python3"
  },
  "language_info": {
   "codemirror_mode": {
    "name": "ipython",
    "version": 3
   },
   "file_extension": ".py",
   "mimetype": "text/x-python",
   "name": "python",
   "nbconvert_exporter": "python",
   "pygments_lexer": "ipython3",
   "version": "3.11.1"
  }
 },
 "nbformat": 4,
 "nbformat_minor": 4
}
